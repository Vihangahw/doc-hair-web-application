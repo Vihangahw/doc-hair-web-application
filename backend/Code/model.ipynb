{
 "cells": [
  {
   "cell_type": "code",
   "execution_count": 1,
   "metadata": {},
   "outputs": [],
   "source": [
    "import numpy as np\n",
    "import keras\n",
    "from keras.models import Sequential\n",
    "from keras.layers import Dense, Dropout, Flatten\n",
    "from keras.layers import Conv2D, MaxPooling2D\n",
    "from keras.preprocessing.image import ImageDataGenerator"
   ]
  },
  {
   "cell_type": "code",
   "execution_count": 2,
   "metadata": {},
   "outputs": [],
   "source": [
    "train_data_dir = 'D:/OneDrive/Desktop/dochair dataset/train'\n",
    "test_data_dir = 'D:/OneDrive/Desktop/dochair dataset/test'"
   ]
  },
  {
   "cell_type": "code",
   "execution_count": 6,
   "metadata": {},
   "outputs": [
    {
     "name": "stdout",
     "output_type": "stream",
     "text": [
      "Found 187 images belonging to 3 classes.\n",
      "Found 123 images belonging to 3 classes.\n"
     ]
    }
   ],
   "source": [
    "train_datagen = ImageDataGenerator(rescale=1./255)\n",
    "test_datagen = ImageDataGenerator(rescale=1./255)\n",
    "\n",
    "train_generator = train_datagen.flow_from_directory(\n",
    "    train_data_dir,\n",
    "    target_size=(224, 224),\n",
    "    batch_size=32,\n",
    "    class_mode='categorical')\n",
    "\n",
    "test_generator = test_datagen.flow_from_directory(\n",
    "    test_data_dir,\n",
    "    target_size=(224, 224),\n",
    "    batch_size=32,\n",
    "    class_mode='categorical')"
   ]
  },
  {
   "cell_type": "code",
   "execution_count": 9,
   "metadata": {},
   "outputs": [],
   "source": [
    "model = Sequential()\n",
    "\n",
    "model.add(Conv2D(32, (3, 3), activation='relu', input_shape=(224, 224, 3)))\n",
    "model.add(MaxPooling2D((2, 2)))\n",
    "\n",
    "model.add(Conv2D(64, (3, 3), activation='relu'))\n",
    "model.add(MaxPooling2D((2, 2)))\n",
    "\n",
    "model.add(Conv2D(128, (3, 3), activation='relu'))\n",
    "model.add(MaxPooling2D((2, 2)))\n",
    "\n",
    "model.add(Flatten())\n",
    "model.add(Dense(128, activation='relu'))\n",
    "model.add(Dropout(0.5))\n",
    "model.add(Dense(3, activation='softmax'))"
   ]
  },
  {
   "cell_type": "code",
   "execution_count": 10,
   "metadata": {},
   "outputs": [],
   "source": [
    "model.compile(loss='categorical_crossentropy',\n",
    "              optimizer='rmsprop',\n",
    "              metrics=['accuracy'])"
   ]
  },
  {
   "cell_type": "code",
   "execution_count": 11,
   "metadata": {},
   "outputs": [
    {
     "name": "stderr",
     "output_type": "stream",
     "text": [
      "C:\\Users\\Nusla\\AppData\\Local\\Temp\\ipykernel_26812\\3795720808.py:1: UserWarning: `Model.fit_generator` is deprecated and will be removed in a future version. Please use `Model.fit`, which supports generators.\n",
      "  model.fit_generator(\n"
     ]
    },
    {
     "name": "stdout",
     "output_type": "stream",
     "text": [
      "Epoch 1/10\n",
      "2/5 [===========>..................] - ETA: 6s - loss: 5.9230 - accuracy: 0.2812 "
     ]
    },
    {
     "name": "stderr",
     "output_type": "stream",
     "text": [
      "c:\\Users\\Nusla\\AppData\\Local\\Programs\\Python\\Python311\\Lib\\site-packages\\PIL\\Image.py:996: UserWarning: Palette images with Transparency expressed in bytes should be converted to RGBA images\n",
      "  warnings.warn(\n"
     ]
    },
    {
     "name": "stdout",
     "output_type": "stream",
     "text": [
      "5/5 [==============================] - 19s 4s/step - loss: 3.4191 - accuracy: 0.3419 - val_loss: 1.1659 - val_accuracy: 0.3021\n",
      "Epoch 2/10\n",
      "5/5 [==============================] - 13s 3s/step - loss: 1.1137 - accuracy: 0.4194 - val_loss: 1.1138 - val_accuracy: 0.3021\n",
      "Epoch 3/10\n",
      "5/5 [==============================] - 13s 3s/step - loss: 1.0909 - accuracy: 0.3250 - val_loss: 1.1425 - val_accuracy: 0.3542\n",
      "Epoch 4/10\n",
      "5/5 [==============================] - 13s 3s/step - loss: 1.2142 - accuracy: 0.3613 - val_loss: 1.1308 - val_accuracy: 0.2708\n",
      "Epoch 5/10\n",
      "5/5 [==============================] - 15s 3s/step - loss: 1.0792 - accuracy: 0.4375 - val_loss: 1.0852 - val_accuracy: 0.3333\n",
      "Epoch 6/10\n",
      "5/5 [==============================] - 14s 3s/step - loss: 1.0673 - accuracy: 0.4194 - val_loss: 1.0701 - val_accuracy: 0.4375\n",
      "Epoch 7/10\n",
      "5/5 [==============================] - 13s 3s/step - loss: 1.0304 - accuracy: 0.5000 - val_loss: 1.0218 - val_accuracy: 0.5833\n",
      "Epoch 8/10\n",
      "5/5 [==============================] - 14s 3s/step - loss: 1.0427 - accuracy: 0.5032 - val_loss: 0.9686 - val_accuracy: 0.6875\n",
      "Epoch 9/10\n",
      "5/5 [==============================] - 13s 3s/step - loss: 1.2228 - accuracy: 0.5290 - val_loss: 1.1828 - val_accuracy: 0.3229\n",
      "Epoch 10/10\n",
      "5/5 [==============================] - 11s 2s/step - loss: 1.0744 - accuracy: 0.4710 - val_loss: 0.9198 - val_accuracy: 0.5104\n"
     ]
    },
    {
     "data": {
      "text/plain": [
       "<keras.callbacks.History at 0x21003672f90>"
      ]
     },
     "execution_count": 11,
     "metadata": {},
     "output_type": "execute_result"
    }
   ],
   "source": [
    "model.fit_generator(\n",
    "    train_generator,\n",
    "    steps_per_epoch=train_generator.n//train_generator.batch_size,\n",
    "    epochs=10,\n",
    "    validation_data=test_generator,\n",
    "    validation_steps=test_generator.n//test_generator.batch_size)"
   ]
  },
  {
   "cell_type": "code",
   "execution_count": 12,
   "metadata": {},
   "outputs": [
    {
     "name": "stderr",
     "output_type": "stream",
     "text": [
      "C:\\Users\\Nusla\\AppData\\Local\\Temp\\ipykernel_26812\\60479265.py:1: UserWarning: `Model.evaluate_generator` is deprecated and will be removed in a future version. Please use `Model.evaluate`, which supports generators.\n",
      "  scores = model.evaluate_generator(test_generator)\n"
     ]
    },
    {
     "name": "stdout",
     "output_type": "stream",
     "text": [
      "Accuracy: 49.59%\n"
     ]
    }
   ],
   "source": [
    "scores = model.evaluate_generator(test_generator)\n",
    "print(\"Accuracy: %.2f%%\" % (scores[1]*100))"
   ]
  }
 ],
 "metadata": {
  "kernelspec": {
   "display_name": "Python 3",
   "language": "python",
   "name": "python3"
  },
  "language_info": {
   "codemirror_mode": {
    "name": "ipython",
    "version": 3
   },
   "file_extension": ".py",
   "mimetype": "text/x-python",
   "name": "python",
   "nbconvert_exporter": "python",
   "pygments_lexer": "ipython3",
   "version": "3.11.2"
  },
  "orig_nbformat": 4
 },
 "nbformat": 4,
 "nbformat_minor": 2
}
